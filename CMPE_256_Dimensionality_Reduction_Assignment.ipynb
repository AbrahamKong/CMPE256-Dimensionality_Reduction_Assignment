{
  "nbformat": 4,
  "nbformat_minor": 0,
  "metadata": {
    "colab": {
      "name": "CMPE 256 Dimensionality Reduction Assignment.ipynb",
      "provenance": [],
      "authorship_tag": "ABX9TyMek2lvvCqc+dZ7DHswzXGR",
      "include_colab_link": true
    },
    "kernelspec": {
      "name": "python3",
      "display_name": "Python 3"
    },
    "language_info": {
      "name": "python"
    }
  },
  "cells": [
    {
      "cell_type": "markdown",
      "metadata": {
        "id": "view-in-github",
        "colab_type": "text"
      },
      "source": [
        "<a href=\"https://colab.research.google.com/github/AbrahamKong/CMPE256-Dimensionality_Reduction_Assignment/blob/main/CMPE_256_Dimensionality_Reduction_Assignment.ipynb\" target=\"_parent\"><img src=\"https://colab.research.google.com/assets/colab-badge.svg\" alt=\"Open In Colab\"/></a>"
      ]
    },
    {
      "cell_type": "code",
      "metadata": {
        "id": "YHI2qnjEtn9-"
      },
      "source": [
        "# import necessary library\n",
        "\n",
        "%matplotlib inline\n",
        "import numpy as np\n",
        "import pandas as pd\n",
        "import matplotlib.pyplot as plt\n",
        "import seaborn as sns; sns.set()"
      ],
      "execution_count": 1,
      "outputs": []
    },
    {
      "cell_type": "code",
      "metadata": {
        "colab": {
          "base_uri": "https://localhost:8080/",
          "height": 178
        },
        "id": "kUKa9bF5b-wQ",
        "outputId": "c5e275e5-e3ed-4457-b1f2-cc398ef7371d"
      },
      "source": [
        "# Generate dataset for tabular dataset\n",
        "rng = np.random.RandomState(1)\n",
        "tbdata = np.dot(rng.rand(3, 2), rng.randn(2, 50)).T\n",
        "plt.scatter(tbdata[:, 0], tbdata[:, 1])\n",
        "plt.axis('scaled');"
      ],
      "execution_count": 40,
      "outputs": [
        {
          "output_type": "display_data",
          "data": {
            "image/png": "[encoded data removed]",
            "text/plain": [
              "<Figure size 432x288 with 1 Axes>"
            ]
          },
          "metadata": {
            "needs_background": "light"
          }
        }
      ]
    },
    {
      "cell_type": "code",
      "metadata": {
        "colab": {
          "base_uri": "https://localhost:8080/"
        },
        "id": "nuOdDfgqcP0X",
        "outputId": "7a7fa8a0-6e6b-416a-93c7-c6daa4ce17ef"
      },
      "source": [
        "from sklearn.decomposition import PCA\n",
        "pca = PCA(n_components=2)\n",
        "pca.fit(tbdata)"
      ],
      "execution_count": 41,
      "outputs": [
        {
          "output_type": "execute_result",
          "data": {
            "text/plain": [
              "PCA(copy=True, iterated_power='auto', n_components=2, random_state=None,\n",
              "    svd_solver='auto', tol=0.0, whiten=False)"
            ]
          },
          "metadata": {},
          "execution_count": 41
        }
      ]
    },
    {
      "cell_type": "code",
      "metadata": {
        "id": "kgTEMu6Vdaen"
      },
      "source": [
        "# Input the Tabular Data Set\n",
        "# Source: https://data.world/exercises/principal-components-exercise-1\n",
        "\n",
        "#tbdata = pd.read_csv(\"/content/california_housing_train.csv\")\n",
        "#tbdata.head()"
      ],
      "execution_count": 42,
      "outputs": []
    },
    {
      "cell_type": "code",
      "metadata": {
        "id": "8DzELOQav8ky"
      },
      "source": [
        "#from scipy.cluster.hierarchy import linkage, fcluster\n",
        "\n",
        "#distance_matrix = linkage(tbdata[['total_bedrooms', 'total_rooms']], method='single', metric='euclidean')\n",
        "#tbdata['cluster_labels'] = fcluster(distance_matrix, 5, criterion='maxclust')\n",
        "#cluster = sns.scatterplot(x = 'total_bedrooms', y = 'total_rooms', hue='cluster_labels', data=tbdata)"
      ],
      "execution_count": 44,
      "outputs": []
    },
    {
      "cell_type": "code",
      "metadata": {
        "id": "1NFk3m_7t9DD"
      },
      "source": [
        "## Input the Tabular Data Set\n",
        "# Source: https://data.world/exercises/principal-components-exercise-1\n",
        "\n",
        "#tbdata = pd.read_csv(\"/content/tabular_data.csv\")\n",
        "#tbdata.head()"
      ],
      "execution_count": 45,
      "outputs": []
    }
  ]
}